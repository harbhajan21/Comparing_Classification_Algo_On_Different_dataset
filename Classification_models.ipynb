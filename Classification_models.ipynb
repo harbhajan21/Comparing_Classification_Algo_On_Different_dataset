{
 "cells": [
  {
   "cell_type": "code",
   "execution_count": 1,
   "id": "096318fc",
   "metadata": {},
   "outputs": [],
   "source": [
    "#importing important packages\n",
    "import pandas as pd\n",
    "import numpy as np\n",
    "import matplotlib.pyplot as plt\n",
    "\n",
    "#Importing important packages for Linear Discriminant Analysis\n",
    "from sklearn.discriminant_analysis import LinearDiscriminantAnalysis\n",
    "\n",
    "#Importing important packages for Quadratic Discrimiant Analysis\n",
    "from sklearn.discriminant_analysis import QuadraticDiscriminantAnalysis\n",
    "\n",
    "#Importing important packages for Naive Bayes Classifier\n",
    "from sklearn.model_selection import train_test_split\n",
    "from sklearn.naive_bayes import GaussianNB\n",
    "from sklearn.metrics import accuracy_score, classification_report, confusion_matrix\n",
    "from sklearn.utils.validation import column_or_1d\n",
    "from sklearn.model_selection import cross_val_predict"
   ]
  },
  {
   "cell_type": "code",
   "execution_count": 2,
   "id": "25b5716e",
   "metadata": {},
   "outputs": [],
   "source": [
    "def stat_and_detailed_data(df):\n",
    "    #Top 5 values of dataset\n",
    "    top5 = df.head(5)\n",
    "    print(\"Top 5 records of dataset : \\n\", top5)\n",
    "    \n",
    "    #Below 5 values of dataset\n",
    "    below5 = df.tail(5)\n",
    "    print(\"Below 5 records of dataset : \\n\", below5)\n",
    "    \n",
    "    #Summary of dataset\n",
    "    print(\"\\nSummary of dataset : \")\n",
    "    summ_dataset = df.info()\n",
    "    \n",
    "    #Statistical information of dataset\n",
    "    stat_info = df.describe()\n",
    "    print(\"\\nStatistical information of dataset : \\n\", stat_info)"
   ]
  },
  {
   "cell_type": "code",
   "execution_count": 3,
   "id": "4afcc378",
   "metadata": {},
   "outputs": [],
   "source": [
    "def plot_2d_points(df):\n",
    "    df0 = df[df['label'] == 0]\n",
    "    df1 = df[df['label'] == 1]\n",
    "    plt.scatter(df0.iloc[:,0], df0.iloc[:,1],\n",
    "           c=['red'],\n",
    "           marker='+',\n",
    "           linewidths=0.5)\n",
    "\n",
    "    plt.scatter(df1.iloc[:,0], df1.iloc[:,1],\n",
    "               c=['blue'],\n",
    "               marker='*',\n",
    "               linewidths=0.5)\n",
    "    \n",
    "    plt.legend(['Label 0', 'Label 1'])\n",
    "    \n",
    "    plt.show"
   ]
  },
  {
   "cell_type": "code",
   "execution_count": 4,
   "id": "fd4e13e0",
   "metadata": {},
   "outputs": [],
   "source": [
    "def print_all_scores(y_test, y_pred, model_name, dataset_name):\n",
    "    \n",
    "    print(\"Classification Report and all 5 major metrics for {} data with {} model\".format(dataset_name, model_name))\n",
    "    \n",
    "    # print classification report\n",
    "    print(\"Classification Report: \\n\",classification_report(y_test, y_pred))\n",
    "\n",
    "    # print confusion matrix\n",
    "    conf_mat = confusion_matrix(y_test, y_pred)\n",
    "    print(\"\\nConfusion Matrix: \", conf_mat)\n",
    "\n",
    "    tn, fp, fn, tp = conf_mat.ravel()\n",
    "    ppv = tp / (tp + fp)\n",
    "    print(\"\\nPositive Predictive Value : \", ppv)\n",
    "\n",
    "    npv = tn / (tn + fn)\n",
    "    print(\"\\nNegative Predictive Value :\", npv)\n",
    "\n",
    "    sensitivity = tp / (tp+fn)\n",
    "    print(\"\\nSensitivity : \", sensitivity)\n",
    "\n",
    "    specificity = tn / (tn+fp)\n",
    "    print(\"\\nSpecificity : \", specificity)\n",
    "\n",
    "    acc = accuracy_score(y_test, y_pred)\n",
    "    print(\"\\nAccuracy of Model : \", acc*100,\"%\")"
   ]
  },
  {
   "cell_type": "markdown",
   "id": "8555432c",
   "metadata": {},
   "source": [
    "## Read Datasets"
   ]
  },
  {
   "cell_type": "code",
   "execution_count": 5,
   "id": "0bae9b58",
   "metadata": {},
   "outputs": [],
   "source": [
    "#change the path as per your environment\n",
    "dataset_path=\"SampleDatasets/\""
   ]
  },
  {
   "cell_type": "code",
   "execution_count": 6,
   "id": "73ea0424",
   "metadata": {},
   "outputs": [],
   "source": [
    "def read_datasets():\n",
    "    circle_df = pd.read_csv(dataset_path+\"circles0.3.csv\")\n",
    "    moon_df = pd.read_csv(dataset_path+\"moons1.csv\")\n",
    "    gaussian_df = pd.read_csv(dataset_path+\"twogaussians42.csv\")\n",
    "    halfkernel_df = pd.read_csv(dataset_path+\"halfkernel.csv\")\n",
    "    spiral_df = pd.read_csv(dataset_path+\"spiral1.csv\")\n",
    "    return circle_df,moon_df,gaussian_df,halfkernel_df,spiral_df"
   ]
  },
  {
   "cell_type": "code",
   "execution_count": 7,
   "id": "ac68707f",
   "metadata": {},
   "outputs": [],
   "source": [
    "circle_df,moon_df,gaussian_df,halfkernel_df,spiral_df =read_datasets()"
   ]
  },
  {
   "cell_type": "markdown",
   "id": "b4db6f48",
   "metadata": {},
   "source": [
    "### a. Circles0.3"
   ]
  },
  {
   "cell_type": "code",
   "execution_count": 8,
   "id": "89560488",
   "metadata": {},
   "outputs": [
    {
     "name": "stdout",
     "output_type": "stream",
     "text": [
      "Top 5 records of dataset : \n",
      "          x1        x2  label\n",
      "0 -1.047089  0.149405      0\n",
      "1 -0.417893 -0.064341      1\n",
      "2 -0.873634  0.810346      0\n",
      "3 -0.845811  0.439035      0\n",
      "4  0.844557  0.484532      0\n",
      "Below 5 records of dataset : \n",
      "            x1        x2  label\n",
      "995 -0.913134 -0.309734      0\n",
      "996 -0.840221 -0.869515      0\n",
      "997  0.185978 -0.099436      1\n",
      "998 -0.341822 -0.117213      1\n",
      "999 -0.837367 -0.679239      0\n",
      "\n",
      "Summary of dataset : \n",
      "<class 'pandas.core.frame.DataFrame'>\n",
      "RangeIndex: 1000 entries, 0 to 999\n",
      "Data columns (total 3 columns):\n",
      " #   Column  Non-Null Count  Dtype  \n",
      "---  ------  --------------  -----  \n",
      " 0   x1      1000 non-null   float64\n",
      " 1   x2      1000 non-null   float64\n",
      " 2   label   1000 non-null   int64  \n",
      "dtypes: float64(2), int64(1)\n",
      "memory usage: 23.6 KB\n",
      "\n",
      "Statistical information of dataset : \n",
      "                 x1           x2       label\n",
      "count  1000.000000  1000.000000  1000.00000\n",
      "mean     -0.001126    -0.000579     0.50000\n",
      "std       0.529914     0.527955     0.50025\n",
      "min      -1.265528    -1.124877     0.00000\n",
      "25%      -0.290869    -0.299358     0.00000\n",
      "50%      -0.004964    -0.001341     0.50000\n",
      "75%       0.310900     0.299989     1.00000\n",
      "max       1.207588     1.162153     1.00000\n"
     ]
    }
   ],
   "source": [
    "stat_and_detailed_data(circle_df)"
   ]
  },
  {
   "cell_type": "markdown",
   "id": "d28a2675",
   "metadata": {},
   "source": [
    "### b. Halfkernel"
   ]
  },
  {
   "cell_type": "code",
   "execution_count": 9,
   "id": "143c5130",
   "metadata": {},
   "outputs": [
    {
     "name": "stdout",
     "output_type": "stream",
     "text": [
      "Top 5 records of dataset : \n",
      "      x1     x2  label\n",
      "0 -2.93  -9.01      0\n",
      "1 -9.33  11.40      0\n",
      "2 -3.36   4.51      0\n",
      "3 -7.29  10.40      0\n",
      "4 -9.72 -12.00      0\n",
      "Below 5 records of dataset : \n",
      "         x1     x2  label\n",
      "995 -13.30 -20.10      1\n",
      "996  12.10  -4.98      1\n",
      "997 -16.50 -21.60      1\n",
      "998   9.44  11.00      1\n",
      "999 -18.90  23.20      1\n",
      "\n",
      "Summary of dataset : \n",
      "<class 'pandas.core.frame.DataFrame'>\n",
      "RangeIndex: 1000 entries, 0 to 999\n",
      "Data columns (total 3 columns):\n",
      " #   Column  Non-Null Count  Dtype  \n",
      "---  ------  --------------  -----  \n",
      " 0   x1      1000 non-null   float64\n",
      " 1   x2      1000 non-null   float64\n",
      " 2   label   1000 non-null   int64  \n",
      "dtypes: float64(2), int64(1)\n",
      "memory usage: 23.6 KB\n",
      "\n",
      "Statistical information of dataset : \n",
      "                 x1           x2       label\n",
      "count  1000.000000  1000.000000  1000.00000\n",
      "mean     -3.162222    -0.084438     0.50000\n",
      "std      10.287057    12.533138     0.50025\n",
      "min     -21.900000   -23.200000     0.00000\n",
      "25%     -11.500000   -10.600000     0.00000\n",
      "50%      -3.785000     0.359000     0.50000\n",
      "75%       3.810000    10.500000     1.00000\n",
      "max      17.400000    23.400000     1.00000\n"
     ]
    }
   ],
   "source": [
    "stat_and_detailed_data(halfkernel_df)"
   ]
  },
  {
   "cell_type": "markdown",
   "id": "fa38cd1c",
   "metadata": {},
   "source": [
    "### c. Moon1"
   ]
  },
  {
   "cell_type": "code",
   "execution_count": 10,
   "id": "e1aba575",
   "metadata": {},
   "outputs": [
    {
     "name": "stdout",
     "output_type": "stream",
     "text": [
      "Top 5 records of dataset : \n",
      "          x1        x2  label\n",
      "0 -0.674481  0.469321      0\n",
      "1  0.566712 -0.284153      1\n",
      "2 -0.257384  0.230913      1\n",
      "3  1.868980  0.610969      1\n",
      "4 -0.579194  0.842457      0\n",
      "Below 5 records of dataset : \n",
      "            x1        x2  label\n",
      "995 -0.761868  0.681011      0\n",
      "996  0.995435  0.154483      0\n",
      "997  1.760026 -0.051983      1\n",
      "998  0.771192 -0.460564      1\n",
      "999  0.410518 -0.480132      1\n",
      "\n",
      "Summary of dataset : \n",
      "<class 'pandas.core.frame.DataFrame'>\n",
      "RangeIndex: 1000 entries, 0 to 999\n",
      "Data columns (total 3 columns):\n",
      " #   Column  Non-Null Count  Dtype  \n",
      "---  ------  --------------  -----  \n",
      " 0   x1      1000 non-null   float64\n",
      " 1   x2      1000 non-null   float64\n",
      " 2   label   1000 non-null   int64  \n",
      "dtypes: float64(2), int64(1)\n",
      "memory usage: 23.6 KB\n",
      "\n",
      "Statistical information of dataset : \n",
      "                 x1           x2       label\n",
      "count  1000.000000  1000.000000  1000.00000\n",
      "mean      0.502575     0.252113     0.50000\n",
      "std       0.870595     0.507203     0.50025\n",
      "min      -1.290328    -0.736386     0.00000\n",
      "25%      -0.036783    -0.201826     0.00000\n",
      "50%       0.503604     0.246921     0.50000\n",
      "75%       1.055629     0.698716     1.00000\n",
      "max       2.208051     1.265113     1.00000\n"
     ]
    }
   ],
   "source": [
    "stat_and_detailed_data(moon_df)"
   ]
  },
  {
   "cell_type": "markdown",
   "id": "4191b20a",
   "metadata": {},
   "source": [
    "### c. Spiral1"
   ]
  },
  {
   "cell_type": "code",
   "execution_count": 11,
   "id": "3cb5652d",
   "metadata": {},
   "outputs": [
    {
     "name": "stdout",
     "output_type": "stream",
     "text": [
      "Top 5 records of dataset : \n",
      "          x         y  label\n",
      "0 -1.60023   7.69407    0.0\n",
      "1  7.03777   9.76350    1.0\n",
      "2  9.29608  -9.16002    0.0\n",
      "3  3.95189  12.31531    1.0\n",
      "4  0.56410   4.34127    0.0\n",
      "Below 5 records of dataset : \n",
      "             x         y  label\n",
      "995  14.23334  -2.59433    0.0\n",
      "996   1.54775  10.99383    1.0\n",
      "997   8.59973   2.69069    1.0\n",
      "998  -7.24296   3.13314    0.0\n",
      "999   7.24604 -10.25400    0.0\n",
      "\n",
      "Summary of dataset : \n",
      "<class 'pandas.core.frame.DataFrame'>\n",
      "RangeIndex: 1000 entries, 0 to 999\n",
      "Data columns (total 3 columns):\n",
      " #   Column  Non-Null Count  Dtype  \n",
      "---  ------  --------------  -----  \n",
      " 0   x       1000 non-null   float64\n",
      " 1   y       1000 non-null   float64\n",
      " 2   label   1000 non-null   float64\n",
      "dtypes: float64(3)\n",
      "memory usage: 23.6 KB\n",
      "\n",
      "Statistical information of dataset : \n",
      "                  x            y       label\n",
      "count  1000.000000  1000.000000  1000.00000\n",
      "mean      0.031292    -0.067469     0.50000\n",
      "std       8.577650     8.405857     0.50025\n",
      "min     -17.734170   -15.939320     0.00000\n",
      "25%      -7.374865    -7.330285     0.00000\n",
      "50%       0.099885    -0.243010     0.50000\n",
      "75%       7.449595     7.260847     1.00000\n",
      "max      18.057730    15.734560     1.00000\n"
     ]
    }
   ],
   "source": [
    "stat_and_detailed_data(spiral_df)"
   ]
  },
  {
   "cell_type": "markdown",
   "id": "3c08ed80",
   "metadata": {},
   "source": [
    "### d. Twogaussian42"
   ]
  },
  {
   "cell_type": "code",
   "execution_count": 12,
   "id": "1420b89c",
   "metadata": {},
   "outputs": [
    {
     "name": "stdout",
     "output_type": "stream",
     "text": [
      "Top 5 records of dataset : \n",
      "          x1        x2  label\n",
      "0  0.601034  1.535353      1\n",
      "1  0.755945 -1.172352      0\n",
      "2  1.354479 -0.948528      0\n",
      "3  3.103090  0.233485      0\n",
      "4  0.753178  0.787514      1\n",
      "Below 5 records of dataset : \n",
      "            x1        x2  label\n",
      "995  1.713939  0.451639      1\n",
      "996  1.509473 -0.794996      0\n",
      "997  2.844315  0.211294      1\n",
      "998 -0.025876  1.619258      1\n",
      "999  3.641478  0.756925      0\n",
      "\n",
      "Summary of dataset : \n",
      "<class 'pandas.core.frame.DataFrame'>\n",
      "RangeIndex: 1000 entries, 0 to 999\n",
      "Data columns (total 3 columns):\n",
      " #   Column  Non-Null Count  Dtype  \n",
      "---  ------  --------------  -----  \n",
      " 0   x1      1000 non-null   float64\n",
      " 1   x2      1000 non-null   float64\n",
      " 2   label   1000 non-null   int64  \n",
      "dtypes: float64(2), int64(1)\n",
      "memory usage: 23.6 KB\n",
      "\n",
      "Statistical information of dataset : \n",
      "                 x1           x2        label\n",
      "count  1000.000000  1000.000000  1000.000000\n",
      "mean      1.025840    -0.012693     0.499000\n",
      "std       1.071457     1.225378     0.500249\n",
      "min      -2.472718    -2.850971     0.000000\n",
      "25%       0.307209    -0.984268     0.000000\n",
      "50%       1.023750    -0.102945     0.000000\n",
      "75%       1.724713     0.973550     1.000000\n",
      "max       4.138715     3.342864     1.000000\n"
     ]
    }
   ],
   "source": [
    "stat_and_detailed_data(gaussian_df)"
   ]
  },
  {
   "cell_type": "markdown",
   "id": "c5b8ee98",
   "metadata": {},
   "source": [
    "## Plot the points"
   ]
  },
  {
   "cell_type": "markdown",
   "id": "d9590e70",
   "metadata": {},
   "source": [
    "#### Circles0.3"
   ]
  },
  {
   "cell_type": "code",
   "execution_count": 13,
   "id": "0d3db8f0",
   "metadata": {},
   "outputs": [
    {
     "data": {
      "image/png": "[encoded data removed]",
      "text/plain": [
       "<Figure size 640x480 with 1 Axes>"
      ]
     },
     "metadata": {},
     "output_type": "display_data"
    }
   ],
   "source": [
    "plot_2d_points(circle_df)"
   ]
  },
  {
   "cell_type": "markdown",
   "id": "bc31d2ad",
   "metadata": {},
   "source": [
    "#### HalfKernel"
   ]
  },
  {
   "cell_type": "code",
   "execution_count": 14,
   "id": "c28d3b83",
   "metadata": {},
   "outputs": [
    {
     "data": {
      "image/png": "[encoded data removed]",
      "text/plain": [
       "<Figure size 640x480 with 1 Axes>"
      ]
     },
     "metadata": {},
     "output_type": "display_data"
    }
   ],
   "source": [
    "plot_2d_points(halfkernel_df)"
   ]
  },
  {
   "cell_type": "markdown",
   "id": "970c7b71",
   "metadata": {},
   "source": [
    "#### Moon"
   ]
  },
  {
   "cell_type": "code",
   "execution_count": 15,
   "id": "a1732b54",
   "metadata": {},
   "outputs": [
    {
     "data": {
      "image/png": "[encoded data removed]",
      "text/plain": [
       "<Figure size 640x480 with 1 Axes>"
      ]
     },
     "metadata": {},
     "output_type": "display_data"
    }
   ],
   "source": [
    "plot_2d_points(moon_df)"
   ]
  },
  {
   "cell_type": "markdown",
   "id": "41f2fd44",
   "metadata": {},
   "source": [
    "#### Spiral"
   ]
  },
  {
   "cell_type": "code",
   "execution_count": 16,
   "id": "f12af75d",
   "metadata": {},
   "outputs": [
    {
     "data": {
      "image/png": "[encoded data removed]",
      "text/plain": [
       "<Figure size 640x480 with 1 Axes>"
      ]
     },
     "metadata": {},
     "output_type": "display_data"
    }
   ],
   "source": [
    "plot_2d_points(spiral_df)"
   ]
  },
  {
   "cell_type": "markdown",
   "id": "7d145f87",
   "metadata": {},
   "source": [
    "#### Twogaussian42"
   ]
  },
  {
   "cell_type": "code",
   "execution_count": 17,
   "id": "5c3415c5",
   "metadata": {},
   "outputs": [
    {
     "data": {
      "image/png": "[encoded data removed]",
      "text/plain": [
       "<Figure size 640x480 with 1 Axes>"
      ]
     },
     "metadata": {},
     "output_type": "display_data"
    }
   ],
   "source": [
    "plot_2d_points(gaussian_df)"
   ]
  },
  {
   "cell_type": "markdown",
   "id": "2197d912",
   "metadata": {},
   "source": [
    "## Analyse different models"
   ]
  },
  {
   "cell_type": "markdown",
   "id": "b21151bf",
   "metadata": {},
   "source": [
    "### 1. Linear Discriminant Analysis Classifier"
   ]
  },
  {
   "cell_type": "code",
   "execution_count": 18,
   "id": "dd9adc67",
   "metadata": {},
   "outputs": [],
   "source": [
    "def lda_classifier(df,dataset_name):\n",
    "    \n",
    "    # Dividing the dataset into class and target variable\n",
    "    X = df.iloc[:, 0:2].values\n",
    "    y = df.iloc[:, 2].values\n",
    "    \n",
    "    # Spliting the data set into 80% training and 20% testing\n",
    "    X_train, X_test, y_train, y_test = train_test_split(X, y, test_size=0.2, random_state=0)\n",
    "\n",
    "    # Instantiating the LDA model and using svd solver along with other hyper parameteres for tuning\n",
    "    lda = LinearDiscriminantAnalysis(solver='svd',  store_covariance=True, n_components=None, tol=0.0001)#svd,eigen,lsqr\n",
    "\n",
    "    # Applying 10-fold cross validation  as per requirement and predicting on the training set\n",
    "    y_pred = cross_val_predict(lda, X_train, y_train, cv=10)\n",
    "    \n",
    "    print_all_scores(y_train, y_pred, \"Linear Discriminant Analysis\",dataset_name)\n",
    "    "
   ]
  },
  {
   "cell_type": "code",
   "execution_count": 19,
   "id": "21326de3",
   "metadata": {},
   "outputs": [
    {
     "name": "stdout",
     "output_type": "stream",
     "text": [
      "Classification Report and all 5 major metrics for circles0.3.csv data with Linear Discriminant Analysis model\n",
      "Classification Report: \n",
      "               precision    recall  f1-score   support\n",
      "\n",
      "           0       0.44      0.64      0.52       403\n",
      "           1       0.31      0.17      0.22       397\n",
      "\n",
      "    accuracy                           0.41       800\n",
      "   macro avg       0.38      0.40      0.37       800\n",
      "weighted avg       0.38      0.41      0.37       800\n",
      "\n",
      "\n",
      "Confusion Matrix:  [[259 144]\n",
      " [331  66]]\n",
      "\n",
      "Positive Predictive Value :  0.3142857142857143\n",
      "\n",
      "Negative Predictive Value : 0.43898305084745765\n",
      "\n",
      "Sensitivity :  0.16624685138539042\n",
      "\n",
      "Specificity :  0.6426799007444168\n",
      "\n",
      "Accuracy of Model :  40.625 %\n",
      "Classification Report and all 5 major metrics for moons1.csv data with Linear Discriminant Analysis model\n",
      "Classification Report: \n",
      "               precision    recall  f1-score   support\n",
      "\n",
      "           0       0.88      0.88      0.88       400\n",
      "           1       0.88      0.88      0.88       400\n",
      "\n",
      "    accuracy                           0.88       800\n",
      "   macro avg       0.88      0.88      0.88       800\n",
      "weighted avg       0.88      0.88      0.88       800\n",
      "\n",
      "\n",
      "Confusion Matrix:  [[353  47]\n",
      " [ 47 353]]\n",
      "\n",
      "Positive Predictive Value :  0.8825\n",
      "\n",
      "Negative Predictive Value : 0.8825\n",
      "\n",
      "Sensitivity :  0.8825\n",
      "\n",
      "Specificity :  0.8825\n",
      "\n",
      "Accuracy of Model :  88.25 %\n",
      "Classification Report and all 5 major metrics for twogaussian42.csv data with Linear Discriminant Analysis model\n",
      "Classification Report: \n",
      "               precision    recall  f1-score   support\n",
      "\n",
      "           0       0.88      0.93      0.90       398\n",
      "           1       0.92      0.88      0.90       402\n",
      "\n",
      "    accuracy                           0.90       800\n",
      "   macro avg       0.90      0.90      0.90       800\n",
      "weighted avg       0.90      0.90      0.90       800\n",
      "\n",
      "\n",
      "Confusion Matrix:  [[369  29]\n",
      " [ 50 352]]\n",
      "\n",
      "Positive Predictive Value :  0.9238845144356955\n",
      "\n",
      "Negative Predictive Value : 0.8806682577565632\n",
      "\n",
      "Sensitivity :  0.8756218905472637\n",
      "\n",
      "Specificity :  0.9271356783919598\n",
      "\n",
      "Accuracy of Model :  90.125 %\n",
      "Classification Report and all 5 major metrics for halfkernel.csv data with Linear Discriminant Analysis model\n",
      "Classification Report: \n",
      "               precision    recall  f1-score   support\n",
      "\n",
      "           0       0.66      0.70      0.68       402\n",
      "           1       0.67      0.63      0.65       398\n",
      "\n",
      "    accuracy                           0.67       800\n",
      "   macro avg       0.67      0.66      0.66       800\n",
      "weighted avg       0.67      0.67      0.66       800\n",
      "\n",
      "\n",
      "Confusion Matrix:  [[280 122]\n",
      " [146 252]]\n",
      "\n",
      "Positive Predictive Value :  0.6737967914438503\n",
      "\n",
      "Negative Predictive Value : 0.6572769953051644\n",
      "\n",
      "Sensitivity :  0.6331658291457286\n",
      "\n",
      "Specificity :  0.6965174129353234\n",
      "\n",
      "Accuracy of Model :  66.5 %\n",
      "Classification Report and all 5 major metrics for spira1.csv data with Linear Discriminant Analysis model\n",
      "Classification Report: \n",
      "               precision    recall  f1-score   support\n",
      "\n",
      "         0.0       0.76      0.76      0.76       406\n",
      "         1.0       0.75      0.75      0.75       394\n",
      "\n",
      "    accuracy                           0.76       800\n",
      "   macro avg       0.76      0.76      0.76       800\n",
      "weighted avg       0.76      0.76      0.76       800\n",
      "\n",
      "\n",
      "Confusion Matrix:  [[310  96]\n",
      " [ 99 295]]\n",
      "\n",
      "Positive Predictive Value :  0.7544757033248082\n",
      "\n",
      "Negative Predictive Value : 0.7579462102689487\n",
      "\n",
      "Sensitivity :  0.748730964467005\n",
      "\n",
      "Specificity :  0.7635467980295566\n",
      "\n",
      "Accuracy of Model :  75.625 %\n"
     ]
    }
   ],
   "source": [
    "lda_classifier(circle_df,\"circles0.3.csv\")\n",
    "lda_classifier(moon_df,\"moons1.csv\")\n",
    "lda_classifier(gaussian_df,\"twogaussian42.csv\")\n",
    "lda_classifier(halfkernel_df,\"halfkernel.csv\")\n",
    "lda_classifier(spiral_df,\"spira1.csv\")"
   ]
  },
  {
   "cell_type": "markdown",
   "id": "ed2ca0d9",
   "metadata": {},
   "source": [
    "### 2. Quadratic Discriminant Analysis Classifier"
   ]
  },
  {
   "cell_type": "code",
   "execution_count": 20,
   "id": "1dccce1d",
   "metadata": {},
   "outputs": [],
   "source": [
    "def qda_classifier(df,dataset_name):\n",
    "    # Dividing the dataset into class and target variable\n",
    "    X = df.iloc[:, 0:2].values\n",
    "    y = df.iloc[:, 2].values\n",
    "\n",
    "    #Split the data into 80% training and 20% testing\n",
    "    X_train, X_test, y_train, y_test = train_test_split(X, y, test_size=0.2, random_state=0)\n",
    "    \n",
    "    #Calling the QDA model\n",
    "    qda = QuadraticDiscriminantAnalysis()\n",
    "\n",
    "    # Apply 10-fold cross validation and predict on the training set\n",
    "    y_pred = cross_val_predict(qda, X_train, y_train, cv=10)\n",
    "    \n",
    "    print_all_scores(y_train, y_pred, \"Linear Discriminant Analysis\",dataset_name)#\"circles0.3.csv\")\n",
    "    "
   ]
  },
  {
   "cell_type": "code",
   "execution_count": 21,
   "id": "6e73b8a4",
   "metadata": {},
   "outputs": [
    {
     "name": "stdout",
     "output_type": "stream",
     "text": [
      "Classification Report and all 5 major metrics for circles0.3.csv data with Linear Discriminant Analysis model\n",
      "Classification Report: \n",
      "               precision    recall  f1-score   support\n",
      "\n",
      "           0       0.98      1.00      0.99       403\n",
      "           1       1.00      0.98      0.99       397\n",
      "\n",
      "    accuracy                           0.99       800\n",
      "   macro avg       0.99      0.99      0.99       800\n",
      "weighted avg       0.99      0.99      0.99       800\n",
      "\n",
      "\n",
      "Confusion Matrix:  [[403   0]\n",
      " [  7 390]]\n",
      "\n",
      "Positive Predictive Value :  1.0\n",
      "\n",
      "Negative Predictive Value : 0.9829268292682927\n",
      "\n",
      "Sensitivity :  0.982367758186398\n",
      "\n",
      "Specificity :  1.0\n",
      "\n",
      "Accuracy of Model :  99.125 %\n",
      "Classification Report and all 5 major metrics for moons1.csv data with Linear Discriminant Analysis model\n",
      "Classification Report: \n",
      "               precision    recall  f1-score   support\n",
      "\n",
      "           0       0.88      0.88      0.88       400\n",
      "           1       0.88      0.88      0.88       400\n",
      "\n",
      "    accuracy                           0.88       800\n",
      "   macro avg       0.88      0.88      0.88       800\n",
      "weighted avg       0.88      0.88      0.88       800\n",
      "\n",
      "\n",
      "Confusion Matrix:  [[353  47]\n",
      " [ 48 352]]\n",
      "\n",
      "Positive Predictive Value :  0.8822055137844611\n",
      "\n",
      "Negative Predictive Value : 0.8802992518703242\n",
      "\n",
      "Sensitivity :  0.88\n",
      "\n",
      "Specificity :  0.8825\n",
      "\n",
      "Accuracy of Model :  88.125 %\n",
      "Classification Report and all 5 major metrics for twogaussian42.csv data with Linear Discriminant Analysis model\n",
      "Classification Report: \n",
      "               precision    recall  f1-score   support\n",
      "\n",
      "           0       0.92      0.97      0.94       398\n",
      "           1       0.97      0.92      0.94       402\n",
      "\n",
      "    accuracy                           0.94       800\n",
      "   macro avg       0.94      0.94      0.94       800\n",
      "weighted avg       0.94      0.94      0.94       800\n",
      "\n",
      "\n",
      "Confusion Matrix:  [[386  12]\n",
      " [ 33 369]]\n",
      "\n",
      "Positive Predictive Value :  0.968503937007874\n",
      "\n",
      "Negative Predictive Value : 0.9212410501193318\n",
      "\n",
      "Sensitivity :  0.917910447761194\n",
      "\n",
      "Specificity :  0.9698492462311558\n",
      "\n",
      "Accuracy of Model :  94.375 %\n",
      "Classification Report and all 5 major metrics for halfkernel.csv data with Linear Discriminant Analysis model\n",
      "Classification Report: \n",
      "               precision    recall  f1-score   support\n",
      "\n",
      "           0       0.93      0.96      0.94       402\n",
      "           1       0.96      0.92      0.94       398\n",
      "\n",
      "    accuracy                           0.94       800\n",
      "   macro avg       0.94      0.94      0.94       800\n",
      "weighted avg       0.94      0.94      0.94       800\n",
      "\n",
      "\n",
      "Confusion Matrix:  [[385  17]\n",
      " [ 31 367]]\n",
      "\n",
      "Positive Predictive Value :  0.9557291666666666\n",
      "\n",
      "Negative Predictive Value : 0.9254807692307693\n",
      "\n",
      "Sensitivity :  0.9221105527638191\n",
      "\n",
      "Specificity :  0.9577114427860697\n",
      "\n",
      "Accuracy of Model :  94.0 %\n",
      "Classification Report and all 5 major metrics for spira1.csv data with Linear Discriminant Analysis model\n",
      "Classification Report: \n",
      "               precision    recall  f1-score   support\n",
      "\n",
      "         0.0       0.76      0.76      0.76       406\n",
      "         1.0       0.75      0.75      0.75       394\n",
      "\n",
      "    accuracy                           0.76       800\n",
      "   macro avg       0.76      0.76      0.76       800\n",
      "weighted avg       0.76      0.76      0.76       800\n",
      "\n",
      "\n",
      "Confusion Matrix:  [[310  96]\n",
      " [ 99 295]]\n",
      "\n",
      "Positive Predictive Value :  0.7544757033248082\n",
      "\n",
      "Negative Predictive Value : 0.7579462102689487\n",
      "\n",
      "Sensitivity :  0.748730964467005\n",
      "\n",
      "Specificity :  0.7635467980295566\n",
      "\n",
      "Accuracy of Model :  75.625 %\n"
     ]
    }
   ],
   "source": [
    "qda_classifier(circle_df,\"circles0.3.csv\")\n",
    "qda_classifier(moon_df,\"moons1.csv\")\n",
    "qda_classifier(gaussian_df,\"twogaussian42.csv\")\n",
    "qda_classifier(halfkernel_df,\"halfkernel.csv\")\n",
    "qda_classifier(spiral_df,\"spira1.csv\")"
   ]
  },
  {
   "cell_type": "markdown",
   "id": "44ce2638",
   "metadata": {},
   "source": [
    "### 3. Naive Bayes Classifier"
   ]
  },
  {
   "cell_type": "code",
   "execution_count": 22,
   "id": "cf196720",
   "metadata": {},
   "outputs": [],
   "source": [
    "def naive_bayes_classifier(X_train,y_train):\n",
    "    gnb = GaussianNB()\n",
    "    \n",
    "    #Fit the model\n",
    "    gnb.fit(X_train, y_train)\n",
    "    \n",
    "    #10 fold Cross Validation\n",
    "    y_pred = cross_val_predict(gnb, X_test, y_test, cv=10)\n",
    "    \n",
    "    return y_pred"
   ]
  },
  {
   "cell_type": "markdown",
   "id": "f57f7df0",
   "metadata": {},
   "source": [
    "#### Circle Dataset"
   ]
  },
  {
   "cell_type": "code",
   "execution_count": 23,
   "id": "a9ebef05",
   "metadata": {},
   "outputs": [
    {
     "name": "stderr",
     "output_type": "stream",
     "text": [
      "C:\\Users\\makka\\AppData\\Local\\Temp\\ipykernel_10140\\572218430.py:4: DataConversionWarning: A column-vector y was passed when a 1d array was expected. Please change the shape of y to (n_samples, ), for example using ravel().\n",
      "  Y = column_or_1d(Y, warn=True)\n"
     ]
    }
   ],
   "source": [
    "#Storing input variables and labels of Circle dataset in different variables\n",
    "X = circle_df.iloc[:, :-1]\n",
    "Y = circle_df.iloc[:, 2:3]\n",
    "Y = column_or_1d(Y, warn=True)\n",
    "\n",
    "#Splitting the data into training and testing dataset\n",
    "X_train, X_test, y_train, y_test = train_test_split(X, Y, test_size=0.20, random_state=0)"
   ]
  },
  {
   "cell_type": "code",
   "execution_count": 24,
   "id": "3b60e6e8",
   "metadata": {},
   "outputs": [
    {
     "name": "stdout",
     "output_type": "stream",
     "text": [
      "Classification Report and all 5 major metrics for circles0.3.csv data with Gussian Naive Bayes Classifier model\n",
      "Classification Report: \n",
      "               precision    recall  f1-score   support\n",
      "\n",
      "           0       0.97      1.00      0.98        97\n",
      "           1       1.00      0.97      0.99       103\n",
      "\n",
      "    accuracy                           0.98       200\n",
      "   macro avg       0.98      0.99      0.98       200\n",
      "weighted avg       0.99      0.98      0.99       200\n",
      "\n",
      "\n",
      "Confusion Matrix:  [[ 97   0]\n",
      " [  3 100]]\n",
      "\n",
      "Positive Predictive Value :  1.0\n",
      "\n",
      "Negative Predictive Value : 0.97\n",
      "\n",
      "Sensitivity :  0.970873786407767\n",
      "\n",
      "Specificity :  1.0\n",
      "\n",
      "Accuracy of Model :  98.5 %\n"
     ]
    }
   ],
   "source": [
    "#Printing all 5 major metrics of the Naive Bayes Classifier model for Circle Dataset\n",
    "circle_df = pd.read_csv('SampleDatasets/circles0.3.csv')\n",
    "y_pred = naive_bayes_classifier(X_train, y_train)\n",
    "print_all_scores(y_test, y_pred, \"Gussian Naive Bayes Classifier\",\"circles0.3.csv\")"
   ]
  },
  {
   "cell_type": "markdown",
   "id": "a66bbaf5",
   "metadata": {},
   "source": [
    "#### Half Kernel Dataset"
   ]
  },
  {
   "cell_type": "code",
   "execution_count": 25,
   "id": "c33d6e59",
   "metadata": {},
   "outputs": [
    {
     "name": "stderr",
     "output_type": "stream",
     "text": [
      "C:\\Users\\makka\\AppData\\Local\\Temp\\ipykernel_10140\\1216107748.py:4: DataConversionWarning: A column-vector y was passed when a 1d array was expected. Please change the shape of y to (n_samples, ), for example using ravel().\n",
      "  Y = column_or_1d(Y, warn=True)\n"
     ]
    }
   ],
   "source": [
    "#Storing input variables and labels of halfkernel dataset in different variables\n",
    "X = halfkernel_df.iloc[:, :-1]\n",
    "Y = halfkernel_df.iloc[:, 2:3]\n",
    "Y = column_or_1d(Y, warn=True)\n",
    "\n",
    "#Splitting the data into training and testing dataset\n",
    "X_train, X_test, y_train, y_test = train_test_split(X, Y, test_size=0.20, random_state=0)"
   ]
  },
  {
   "cell_type": "code",
   "execution_count": 26,
   "id": "09b213f9",
   "metadata": {},
   "outputs": [
    {
     "name": "stdout",
     "output_type": "stream",
     "text": [
      "Classification Report and all 5 major metrics for halfkernel.csv data with Gaussian Naive Bayes Classifier model\n",
      "Classification Report: \n",
      "               precision    recall  f1-score   support\n",
      "\n",
      "           0       0.88      0.95      0.91        98\n",
      "           1       0.95      0.87      0.91       102\n",
      "\n",
      "    accuracy                           0.91       200\n",
      "   macro avg       0.91      0.91      0.91       200\n",
      "weighted avg       0.91      0.91      0.91       200\n",
      "\n",
      "\n",
      "Confusion Matrix:  [[93  5]\n",
      " [13 89]]\n",
      "\n",
      "Positive Predictive Value :  0.9468085106382979\n",
      "\n",
      "Negative Predictive Value : 0.8773584905660378\n",
      "\n",
      "Sensitivity :  0.8725490196078431\n",
      "\n",
      "Specificity :  0.9489795918367347\n",
      "\n",
      "Accuracy of Model :  91.0 %\n"
     ]
    }
   ],
   "source": [
    "#Printing all 5 major metrics of the Naive Bayes Classifier model for Halfkernel Dataset\n",
    "#df = pd.read_csv('SampleDatasets/halfkernel.csv')\n",
    "y_pred = naive_bayes_classifier(X_train, y_train)\n",
    "print_all_scores(y_test, y_pred, \"Gaussian Naive Bayes Classifier\",\"halfkernel.csv\")"
   ]
  },
  {
   "cell_type": "markdown",
   "id": "4cc6e6cb",
   "metadata": {},
   "source": [
    "#### Moons Dataset"
   ]
  },
  {
   "cell_type": "code",
   "execution_count": 27,
   "id": "74052ab4",
   "metadata": {},
   "outputs": [
    {
     "name": "stderr",
     "output_type": "stream",
     "text": [
      "C:\\Users\\makka\\AppData\\Local\\Temp\\ipykernel_10140\\1809455280.py:4: DataConversionWarning: A column-vector y was passed when a 1d array was expected. Please change the shape of y to (n_samples, ), for example using ravel().\n",
      "  Y = column_or_1d(Y, warn=True)\n"
     ]
    }
   ],
   "source": [
    "#Storing input variables and labels of Moons dataset in different variables\n",
    "X = moon_df.iloc[:, :-1]\n",
    "Y = moon_df.iloc[:, 2:3]\n",
    "Y = column_or_1d(Y, warn=True)\n",
    "\n",
    "#Splitting the data into training and testing dataset\n",
    "X_train, X_test, y_train, y_test = train_test_split(X, Y, test_size=0.20, random_state=0)"
   ]
  },
  {
   "cell_type": "code",
   "execution_count": 28,
   "id": "7d200106",
   "metadata": {},
   "outputs": [
    {
     "name": "stdout",
     "output_type": "stream",
     "text": [
      "Classification Report and all 5 major metrics for moons1.csv data with Gussian Naive Bayes Classifier model\n",
      "Classification Report: \n",
      "               precision    recall  f1-score   support\n",
      "\n",
      "           0       0.87      0.88      0.88       100\n",
      "           1       0.88      0.87      0.87       100\n",
      "\n",
      "    accuracy                           0.88       200\n",
      "   macro avg       0.88      0.88      0.87       200\n",
      "weighted avg       0.88      0.88      0.87       200\n",
      "\n",
      "\n",
      "Confusion Matrix:  [[88 12]\n",
      " [13 87]]\n",
      "\n",
      "Positive Predictive Value :  0.8787878787878788\n",
      "\n",
      "Negative Predictive Value : 0.8712871287128713\n",
      "\n",
      "Sensitivity :  0.87\n",
      "\n",
      "Specificity :  0.88\n",
      "\n",
      "Accuracy of Model :  87.5 %\n"
     ]
    }
   ],
   "source": [
    "#Printing all 5 major metrics of the Naive Bayes Classifier model for Moons Dataset\n",
    "#df = pd.read_csv('SampleDatasets/moons1.csv')\n",
    "y_pred = naive_bayes_classifier(X_train, y_train)\n",
    "print_all_scores(y_test, y_pred, \"Gussian Naive Bayes Classifier\",\"moons1.csv\")"
   ]
  },
  {
   "cell_type": "markdown",
   "id": "5969606a",
   "metadata": {},
   "source": [
    "#### Spiral Dataset"
   ]
  },
  {
   "cell_type": "code",
   "execution_count": 29,
   "id": "f2f7e801",
   "metadata": {},
   "outputs": [
    {
     "name": "stderr",
     "output_type": "stream",
     "text": [
      "C:\\Users\\makka\\AppData\\Local\\Temp\\ipykernel_10140\\154587866.py:4: DataConversionWarning: A column-vector y was passed when a 1d array was expected. Please change the shape of y to (n_samples, ), for example using ravel().\n",
      "  Y = column_or_1d(Y, warn=True)\n"
     ]
    }
   ],
   "source": [
    "#Storing input variables and labels of Spiral dataset in different variables\n",
    "X = spiral_df.iloc[:, :-1]\n",
    "Y = spiral_df.iloc[:, 2:3]\n",
    "Y = column_or_1d(Y, warn=True)\n",
    "\n",
    "#Splitting the data into training and testing dataset\n",
    "X_train, X_test, y_train, y_test = train_test_split(X, Y, test_size=0.20, random_state=0)"
   ]
  },
  {
   "cell_type": "code",
   "execution_count": 30,
   "id": "b358d018",
   "metadata": {},
   "outputs": [
    {
     "name": "stdout",
     "output_type": "stream",
     "text": [
      "Classification Report and all 5 major metrics for spira1.csv data with Gussian Naive Bayes Classifier model\n",
      "Classification Report: \n",
      "               precision    recall  f1-score   support\n",
      "\n",
      "         0.0       0.68      0.68      0.68        94\n",
      "         1.0       0.72      0.72      0.72       106\n",
      "\n",
      "    accuracy                           0.70       200\n",
      "   macro avg       0.70      0.70      0.70       200\n",
      "weighted avg       0.70      0.70      0.70       200\n",
      "\n",
      "\n",
      "Confusion Matrix:  [[64 30]\n",
      " [30 76]]\n",
      "\n",
      "Positive Predictive Value :  0.7169811320754716\n",
      "\n",
      "Negative Predictive Value : 0.6808510638297872\n",
      "\n",
      "Sensitivity :  0.7169811320754716\n",
      "\n",
      "Specificity :  0.6808510638297872\n",
      "\n",
      "Accuracy of Model :  70.0 %\n"
     ]
    }
   ],
   "source": [
    "#Printing all 5 major metrics of the Naive Bayes Classifier model for Spiral Dataset\n",
    "#df = pd.read_csv('SampleDatasets/spiral1.csv')\n",
    "y_pred = naive_bayes_classifier(X_train, y_train)\n",
    "print_all_scores(y_test, y_pred, \"Gussian Naive Bayes Classifier\",\"spira1.csv\")"
   ]
  },
  {
   "cell_type": "markdown",
   "id": "6c608db1",
   "metadata": {},
   "source": [
    "#### TwoGaussians42 Datasets"
   ]
  },
  {
   "cell_type": "code",
   "execution_count": 31,
   "id": "8e223328",
   "metadata": {},
   "outputs": [
    {
     "name": "stderr",
     "output_type": "stream",
     "text": [
      "C:\\Users\\makka\\AppData\\Local\\Temp\\ipykernel_10140\\3757327881.py:4: DataConversionWarning: A column-vector y was passed when a 1d array was expected. Please change the shape of y to (n_samples, ), for example using ravel().\n",
      "  Y = column_or_1d(Y, warn=True)\n"
     ]
    }
   ],
   "source": [
    "#Storing input variables and labels of TwoGaussians42 dataset in different variables\n",
    "X = gaussian_df.iloc[:, :-1]\n",
    "Y = gaussian_df.iloc[:, 2:3]\n",
    "Y = column_or_1d(Y, warn=True)\n",
    "\n",
    "#Splitting the data into training and testing dataset\n",
    "X_train, X_test, y_train, y_test = train_test_split(X, Y, test_size=0.20, random_state=0)"
   ]
  },
  {
   "cell_type": "code",
   "execution_count": 32,
   "id": "23e097d6",
   "metadata": {},
   "outputs": [
    {
     "name": "stdout",
     "output_type": "stream",
     "text": [
      "Classification Report and all 5 major metrics for twogaussians42.csv data with Gussian Naive Bayes Classifier model\n",
      "Classification Report: \n",
      "               precision    recall  f1-score   support\n",
      "\n",
      "           0       0.89      0.91      0.90       103\n",
      "           1       0.90      0.88      0.89        97\n",
      "\n",
      "    accuracy                           0.90       200\n",
      "   macro avg       0.90      0.89      0.89       200\n",
      "weighted avg       0.90      0.90      0.89       200\n",
      "\n",
      "\n",
      "Confusion Matrix:  [[94  9]\n",
      " [12 85]]\n",
      "\n",
      "Positive Predictive Value :  0.9042553191489362\n",
      "\n",
      "Negative Predictive Value : 0.8867924528301887\n",
      "\n",
      "Sensitivity :  0.8762886597938144\n",
      "\n",
      "Specificity :  0.912621359223301\n",
      "\n",
      "Accuracy of Model :  89.5 %\n"
     ]
    }
   ],
   "source": [
    "#Printing all 5 major metrics of the Naive Bayes Classifier model for TwoGaussians42 Dataset\n",
    "#df = pd.read_csv('SampleDatasets/twogaussians42.csv')\n",
    "y_pred = naive_bayes_classifier(X_train, y_train)\n",
    "print_all_scores(y_test, y_pred, \"Gussian Naive Bayes Classifier\",\"twogaussians42.csv\")"
   ]
  },
  {
   "cell_type": "markdown",
   "id": "fc6b81df",
   "metadata": {},
   "source": [
    "### 4. Support Vector Machines"
   ]
  },
  {
   "cell_type": "code",
   "execution_count": 33,
   "id": "dd4c457d",
   "metadata": {},
   "outputs": [],
   "source": [
    "from sklearn.svm import SVC\n",
    "from sklearn.model_selection import GridSearchCV"
   ]
  },
  {
   "cell_type": "markdown",
   "id": "15810472",
   "metadata": {},
   "source": [
    "**Function for training SVC model and finding which kernel works best for the data along with 10 fold cross validation using GridSearchCV**"
   ]
  },
  {
   "cell_type": "code",
   "execution_count": 34,
   "id": "5360359e",
   "metadata": {},
   "outputs": [],
   "source": [
    "def get_best_svc_model(X_train,y_train, param_dict):\n",
    "    #Creating SVC model object\n",
    "    svc=SVC(random_state=0)\n",
    "\n",
    "    # Defining Grid search for all parameters values with 10 fold cross validation\n",
    "    clf = GridSearchCV(SVC(), param_dict, refit = True, cv=10, verbose = 3)\n",
    "\n",
    "    #Fitting the model\n",
    "    clf.fit(X_train, y_train)\n",
    "    \n",
    "    return clf"
   ]
  },
  {
   "cell_type": "markdown",
   "id": "dba67ae8",
   "metadata": {},
   "source": [
    "#### a. circles0.3 dataset"
   ]
  },
  {
   "cell_type": "code",
   "execution_count": 35,
   "id": "a0466a1e",
   "metadata": {},
   "outputs": [
    {
     "name": "stdout",
     "output_type": "stream",
     "text": [
      "Fitting 10 folds for each of 4 candidates, totalling 40 fits\n",
      "[CV 1/10] END ....................kernel=linear;, score=0.500 total time=   0.0s\n",
      "[CV 2/10] END ....................kernel=linear;, score=0.500 total time=   0.0s\n",
      "[CV 3/10] END ....................kernel=linear;, score=0.662 total time=   0.0s\n",
      "[CV 4/10] END ....................kernel=linear;, score=0.500 total time=   0.0s\n",
      "[CV 5/10] END ....................kernel=linear;, score=0.500 total time=   0.0s\n",
      "[CV 6/10] END ....................kernel=linear;, score=0.500 total time=   0.0s\n",
      "[CV 7/10] END ....................kernel=linear;, score=0.500 total time=   0.0s\n",
      "[CV 8/10] END ....................kernel=linear;, score=0.600 total time=   0.0s\n",
      "[CV 9/10] END ....................kernel=linear;, score=0.650 total time=   0.0s\n",
      "[CV 10/10] END ...................kernel=linear;, score=0.600 total time=   0.0s\n",
      "[CV 1/10] END ......................kernel=poly;, score=0.625 total time=   0.0s\n",
      "[CV 2/10] END ......................kernel=poly;, score=0.600 total time=   0.0s\n",
      "[CV 3/10] END ......................kernel=poly;, score=0.637 total time=   0.0s\n",
      "[CV 4/10] END ......................kernel=poly;, score=0.613 total time=   0.0s\n",
      "[CV 5/10] END ......................kernel=poly;, score=0.662 total time=   0.0s\n",
      "[CV 6/10] END ......................kernel=poly;, score=0.287 total time=   0.0s\n",
      "[CV 7/10] END ......................kernel=poly;, score=0.600 total time=   0.0s\n",
      "[CV 8/10] END ......................kernel=poly;, score=0.637 total time=   0.0s\n",
      "[CV 9/10] END ......................kernel=poly;, score=0.675 total time=   0.0s\n",
      "[CV 10/10] END .....................kernel=poly;, score=0.637 total time=   0.0s\n",
      "[CV 1/10] END .......................kernel=rbf;, score=1.000 total time=   0.0s\n",
      "[CV 2/10] END .......................kernel=rbf;, score=1.000 total time=   0.0s\n",
      "[CV 3/10] END .......................kernel=rbf;, score=1.000 total time=   0.0s\n",
      "[CV 4/10] END .......................kernel=rbf;, score=1.000 total time=   0.0s\n",
      "[CV 5/10] END .......................kernel=rbf;, score=1.000 total time=   0.0s\n",
      "[CV 6/10] END .......................kernel=rbf;, score=1.000 total time=   0.0s\n",
      "[CV 7/10] END .......................kernel=rbf;, score=1.000 total time=   0.0s\n",
      "[CV 8/10] END .......................kernel=rbf;, score=1.000 total time=   0.0s\n",
      "[CV 9/10] END .......................kernel=rbf;, score=1.000 total time=   0.0s\n",
      "[CV 10/10] END ......................kernel=rbf;, score=1.000 total time=   0.0s\n",
      "[CV 1/10] END ...................kernel=sigmoid;, score=0.600 total time=   0.0s\n",
      "[CV 2/10] END ...................kernel=sigmoid;, score=0.650 total time=   0.0s\n",
      "[CV 3/10] END ...................kernel=sigmoid;, score=0.487 total time=   0.0s\n",
      "[CV 4/10] END ...................kernel=sigmoid;, score=0.613 total time=   0.0s\n",
      "[CV 5/10] END ...................kernel=sigmoid;, score=0.662 total time=   0.0s\n",
      "[CV 6/10] END ...................kernel=sigmoid;, score=0.588 total time=   0.0s\n",
      "[CV 7/10] END ...................kernel=sigmoid;, score=0.662 total time=   0.0s\n",
      "[CV 8/10] END ...................kernel=sigmoid;, score=0.562 total time=   0.0s\n",
      "[CV 9/10] END ...................kernel=sigmoid;, score=0.512 total time=   0.0s\n",
      "[CV 10/10] END ..................kernel=sigmoid;, score=0.662 total time=   0.0s\n"
     ]
    }
   ],
   "source": [
    "X=circle_df.drop('label', axis='columns')\n",
    "Y=circle_df['label']\n",
    "\n",
    "#Splitting the data into training and testing dataset\n",
    "X_train, X_test, y_train, y_test = train_test_split(X, Y, test_size=0.20, random_state=0)\n",
    "\n",
    "#Defining different parameters values\n",
    "param_dict = {\n",
    "#               'C': [0.1, 1, 10, 100], \n",
    "#               'gamma': [1, 0.1, 0.01, 0.001],\n",
    "              'kernel': [ 'linear', 'poly', 'rbf', 'sigmoid']} \n",
    "\n",
    "clf = get_best_svc_model(X_train, y_train, param_dict)"
   ]
  },
  {
   "cell_type": "code",
   "execution_count": 36,
   "id": "94a9a9a0",
   "metadata": {},
   "outputs": [
    {
     "name": "stdout",
     "output_type": "stream",
     "text": [
      "rbf\n"
     ]
    }
   ],
   "source": [
    "# print best parameter after tuning\n",
    "best_kernel=clf.best_params_.get(\"kernel\")\n",
    "print(best_kernel)"
   ]
  },
  {
   "cell_type": "code",
   "execution_count": 37,
   "id": "c40c971a",
   "metadata": {},
   "outputs": [
    {
     "name": "stdout",
     "output_type": "stream",
     "text": [
      "Classification Report and all 5 major metrics for circles0.3 data with SVM(kernel=rbf) model\n",
      "Classification Report: \n",
      "               precision    recall  f1-score   support\n",
      "\n",
      "           0       1.00      1.00      1.00        97\n",
      "           1       1.00      1.00      1.00       103\n",
      "\n",
      "    accuracy                           1.00       200\n",
      "   macro avg       1.00      1.00      1.00       200\n",
      "weighted avg       1.00      1.00      1.00       200\n",
      "\n",
      "\n",
      "Confusion Matrix:  [[ 97   0]\n",
      " [  0 103]]\n",
      "\n",
      "Positive Predictive Value :  1.0\n",
      "\n",
      "Negative Predictive Value : 1.0\n",
      "\n",
      "Sensitivity :  1.0\n",
      "\n",
      "Specificity :  1.0\n",
      "\n",
      "Accuracy of Model :  100.0 %\n"
     ]
    }
   ],
   "source": [
    "#Storing the prediction made on test data\n",
    "y_pred = clf.predict(X_test)\n",
    "#Printing all scores\n",
    "print_all_scores(y_test, y_pred, f\"SVM(kernel={best_kernel})\", \"circles0.3\")"
   ]
  },
  {
   "cell_type": "markdown",
   "id": "7bf42e92",
   "metadata": {},
   "source": [
    "#### b. halfkernel dataset"
   ]
  },
  {
   "cell_type": "code",
   "execution_count": 38,
   "id": "dc0ffced",
   "metadata": {},
   "outputs": [
    {
     "name": "stdout",
     "output_type": "stream",
     "text": [
      "Fitting 10 folds for each of 4 candidates, totalling 40 fits\n",
      "[CV 1/10] END ....................kernel=linear;, score=0.762 total time=   0.0s\n",
      "[CV 2/10] END ....................kernel=linear;, score=0.725 total time=   0.0s\n",
      "[CV 3/10] END ....................kernel=linear;, score=0.688 total time=   0.0s\n",
      "[CV 4/10] END ....................kernel=linear;, score=0.725 total time=   0.0s\n",
      "[CV 5/10] END ....................kernel=linear;, score=0.762 total time=   0.0s\n",
      "[CV 6/10] END ....................kernel=linear;, score=0.787 total time=   0.0s\n",
      "[CV 7/10] END ....................kernel=linear;, score=0.787 total time=   0.0s\n",
      "[CV 8/10] END ....................kernel=linear;, score=0.625 total time=   0.0s\n",
      "[CV 9/10] END ....................kernel=linear;, score=0.738 total time=   0.0s\n",
      "[CV 10/10] END ...................kernel=linear;, score=0.775 total time=   0.0s\n",
      "[CV 1/10] END ......................kernel=poly;, score=0.850 total time=   0.0s\n",
      "[CV 2/10] END ......................kernel=poly;, score=0.787 total time=   0.0s\n",
      "[CV 3/10] END ......................kernel=poly;, score=0.762 total time=   0.0s\n",
      "[CV 4/10] END ......................kernel=poly;, score=0.787 total time=   0.0s\n",
      "[CV 5/10] END ......................kernel=poly;, score=0.750 total time=   0.0s\n",
      "[CV 6/10] END ......................kernel=poly;, score=0.838 total time=   0.0s\n",
      "[CV 7/10] END ......................kernel=poly;, score=0.762 total time=   0.0s\n",
      "[CV 8/10] END ......................kernel=poly;, score=0.850 total time=   0.0s\n",
      "[CV 9/10] END ......................kernel=poly;, score=0.762 total time=   0.0s\n",
      "[CV 10/10] END .....................kernel=poly;, score=0.775 total time=   0.0s\n",
      "[CV 1/10] END .......................kernel=rbf;, score=1.000 total time=   0.0s\n",
      "[CV 2/10] END .......................kernel=rbf;, score=1.000 total time=   0.0s\n",
      "[CV 3/10] END .......................kernel=rbf;, score=1.000 total time=   0.0s\n",
      "[CV 4/10] END .......................kernel=rbf;, score=1.000 total time=   0.0s\n",
      "[CV 5/10] END .......................kernel=rbf;, score=1.000 total time=   0.0s\n",
      "[CV 6/10] END .......................kernel=rbf;, score=1.000 total time=   0.0s\n",
      "[CV 7/10] END .......................kernel=rbf;, score=1.000 total time=   0.0s\n",
      "[CV 8/10] END .......................kernel=rbf;, score=1.000 total time=   0.0s\n",
      "[CV 9/10] END .......................kernel=rbf;, score=1.000 total time=   0.0s\n",
      "[CV 10/10] END ......................kernel=rbf;, score=1.000 total time=   0.0s\n",
      "[CV 1/10] END ...................kernel=sigmoid;, score=0.487 total time=   0.0s\n",
      "[CV 2/10] END ...................kernel=sigmoid;, score=0.537 total time=   0.0s\n",
      "[CV 3/10] END ...................kernel=sigmoid;, score=0.425 total time=   0.0s\n",
      "[CV 4/10] END ...................kernel=sigmoid;, score=0.500 total time=   0.0s\n",
      "[CV 5/10] END ...................kernel=sigmoid;, score=0.575 total time=   0.0s\n",
      "[CV 6/10] END ...................kernel=sigmoid;, score=0.425 total time=   0.0s\n",
      "[CV 7/10] END ...................kernel=sigmoid;, score=0.550 total time=   0.0s\n",
      "[CV 8/10] END ...................kernel=sigmoid;, score=0.400 total time=   0.0s\n",
      "[CV 9/10] END ...................kernel=sigmoid;, score=0.487 total time=   0.0s\n",
      "[CV 10/10] END ..................kernel=sigmoid;, score=0.562 total time=   0.0s\n"
     ]
    }
   ],
   "source": [
    "X=halfkernel_df.drop('label', axis='columns')\n",
    "Y=halfkernel_df['label']\n",
    "\n",
    "#Splitting the data into training and testing dataset\n",
    "X_train, X_test, y_train, y_test = train_test_split(X, Y, test_size=0.20, random_state=0)\n",
    "\n",
    "#Defining different parameters values\n",
    "param_dict = {\n",
    "#               'C': [0.1, 1, 10, 100], \n",
    "#               'gamma': [1, 0.1, 0.01, 0.001],\n",
    "              'kernel': [ 'linear', 'poly', 'rbf', 'sigmoid']} \n",
    "\n",
    "clf = get_best_svc_model(X_train, y_train, param_dict)"
   ]
  },
  {
   "cell_type": "code",
   "execution_count": 39,
   "id": "5637e577",
   "metadata": {},
   "outputs": [
    {
     "name": "stdout",
     "output_type": "stream",
     "text": [
      "rbf\n"
     ]
    }
   ],
   "source": [
    "# print best parameter after tuning\n",
    "best_kernel=clf.best_params_.get(\"kernel\")\n",
    "print(best_kernel)"
   ]
  },
  {
   "cell_type": "code",
   "execution_count": 40,
   "id": "05ff2bd1",
   "metadata": {},
   "outputs": [
    {
     "name": "stdout",
     "output_type": "stream",
     "text": [
      "Classification Report and all 5 major metrics for halfkernel data with SVM(kernel=rbf) model\n",
      "Classification Report: \n",
      "               precision    recall  f1-score   support\n",
      "\n",
      "           0       1.00      1.00      1.00        98\n",
      "           1       1.00      1.00      1.00       102\n",
      "\n",
      "    accuracy                           1.00       200\n",
      "   macro avg       1.00      1.00      1.00       200\n",
      "weighted avg       1.00      1.00      1.00       200\n",
      "\n",
      "\n",
      "Confusion Matrix:  [[ 98   0]\n",
      " [  0 102]]\n",
      "\n",
      "Positive Predictive Value :  1.0\n",
      "\n",
      "Negative Predictive Value : 1.0\n",
      "\n",
      "Sensitivity :  1.0\n",
      "\n",
      "Specificity :  1.0\n",
      "\n",
      "Accuracy of Model :  100.0 %\n"
     ]
    }
   ],
   "source": [
    "#Storing the prediction made on test data\n",
    "y_pred = clf.predict(X_test)\n",
    "#Printing all scores\n",
    "print_all_scores(y_test, y_pred, f\"SVM(kernel={best_kernel})\", \"halfkernel\")"
   ]
  },
  {
   "cell_type": "markdown",
   "id": "7d04a861",
   "metadata": {},
   "source": [
    "#### c. moons1 dataset"
   ]
  },
  {
   "cell_type": "code",
   "execution_count": 41,
   "id": "89e2c989",
   "metadata": {},
   "outputs": [
    {
     "name": "stdout",
     "output_type": "stream",
     "text": [
      "Fitting 10 folds for each of 4 candidates, totalling 40 fits\n",
      "[CV 1/10] END ....................kernel=linear;, score=0.912 total time=   0.0s\n",
      "[CV 2/10] END ....................kernel=linear;, score=0.887 total time=   0.0s\n",
      "[CV 3/10] END ....................kernel=linear;, score=0.887 total time=   0.0s\n",
      "[CV 4/10] END ....................kernel=linear;, score=0.912 total time=   0.0s\n",
      "[CV 5/10] END ....................kernel=linear;, score=0.838 total time=   0.0s\n",
      "[CV 6/10] END ....................kernel=linear;, score=0.850 total time=   0.0s\n",
      "[CV 7/10] END ....................kernel=linear;, score=0.863 total time=   0.0s\n",
      "[CV 8/10] END ....................kernel=linear;, score=0.887 total time=   0.0s\n",
      "[CV 9/10] END ....................kernel=linear;, score=0.863 total time=   0.0s\n",
      "[CV 10/10] END ...................kernel=linear;, score=0.887 total time=   0.0s\n",
      "[CV 1/10] END ......................kernel=poly;, score=0.963 total time=   0.0s\n",
      "[CV 2/10] END ......................kernel=poly;, score=0.950 total time=   0.0s\n",
      "[CV 3/10] END ......................kernel=poly;, score=0.950 total time=   0.0s\n",
      "[CV 4/10] END ......................kernel=poly;, score=0.950 total time=   0.0s\n",
      "[CV 5/10] END ......................kernel=poly;, score=0.912 total time=   0.0s\n",
      "[CV 6/10] END ......................kernel=poly;, score=0.925 total time=   0.0s\n",
      "[CV 7/10] END ......................kernel=poly;, score=0.912 total time=   0.0s\n",
      "[CV 8/10] END ......................kernel=poly;, score=0.950 total time=   0.0s\n",
      "[CV 9/10] END ......................kernel=poly;, score=0.912 total time=   0.0s\n",
      "[CV 10/10] END .....................kernel=poly;, score=0.925 total time=   0.0s\n",
      "[CV 1/10] END .......................kernel=rbf;, score=0.988 total time=   0.0s\n",
      "[CV 2/10] END .......................kernel=rbf;, score=1.000 total time=   0.0s\n",
      "[CV 3/10] END .......................kernel=rbf;, score=1.000 total time=   0.0s\n",
      "[CV 4/10] END .......................kernel=rbf;, score=1.000 total time=   0.0s\n",
      "[CV 5/10] END .......................kernel=rbf;, score=1.000 total time=   0.0s\n",
      "[CV 6/10] END .......................kernel=rbf;, score=1.000 total time=   0.0s\n",
      "[CV 7/10] END .......................kernel=rbf;, score=0.988 total time=   0.0s\n",
      "[CV 8/10] END .......................kernel=rbf;, score=1.000 total time=   0.0s\n",
      "[CV 9/10] END .......................kernel=rbf;, score=1.000 total time=   0.0s\n",
      "[CV 10/10] END ......................kernel=rbf;, score=1.000 total time=   0.0s\n",
      "[CV 1/10] END ...................kernel=sigmoid;, score=0.688 total time=   0.0s\n",
      "[CV 2/10] END ...................kernel=sigmoid;, score=0.625 total time=   0.0s\n",
      "[CV 3/10] END ...................kernel=sigmoid;, score=0.738 total time=   0.0s\n",
      "[CV 4/10] END ...................kernel=sigmoid;, score=0.700 total time=   0.0s\n",
      "[CV 5/10] END ...................kernel=sigmoid;, score=0.588 total time=   0.0s\n",
      "[CV 6/10] END ...................kernel=sigmoid;, score=0.738 total time=   0.0s\n",
      "[CV 7/10] END ...................kernel=sigmoid;, score=0.613 total time=   0.0s\n",
      "[CV 8/10] END ...................kernel=sigmoid;, score=0.675 total time=   0.0s\n",
      "[CV 9/10] END ...................kernel=sigmoid;, score=0.650 total time=   0.0s\n",
      "[CV 10/10] END ..................kernel=sigmoid;, score=0.700 total time=   0.0s\n"
     ]
    }
   ],
   "source": [
    "X=moon_df.drop('label', axis='columns')\n",
    "Y=moon_df['label']\n",
    "\n",
    "#Splitting the data into training and testing dataset\n",
    "X_train, X_test, y_train, y_test = train_test_split(X, Y, test_size=0.20, random_state=0)\n",
    "\n",
    "#Defining different parameters values\n",
    "param_dict = {\n",
    "#               'C': [0.1, 1, 10, 100], \n",
    "#               'gamma': [1, 0.1, 0.01, 0.001],\n",
    "              'kernel': [ 'linear', 'poly', 'rbf', 'sigmoid']} \n",
    "\n",
    "clf = get_best_svc_model(X_train, y_train, param_dict)"
   ]
  },
  {
   "cell_type": "code",
   "execution_count": 42,
   "id": "951b9280",
   "metadata": {},
   "outputs": [
    {
     "name": "stdout",
     "output_type": "stream",
     "text": [
      "rbf\n"
     ]
    }
   ],
   "source": [
    "# print best parameter after tuning\n",
    "best_kernel=clf.best_params_.get(\"kernel\")\n",
    "print(best_kernel)"
   ]
  },
  {
   "cell_type": "code",
   "execution_count": 43,
   "id": "23e7db14",
   "metadata": {},
   "outputs": [
    {
     "name": "stdout",
     "output_type": "stream",
     "text": [
      "Classification Report and all 5 major metrics for moons1 data with SVM(kernel=rbf) model\n",
      "Classification Report: \n",
      "               precision    recall  f1-score   support\n",
      "\n",
      "           0       1.00      1.00      1.00       100\n",
      "           1       1.00      1.00      1.00       100\n",
      "\n",
      "    accuracy                           1.00       200\n",
      "   macro avg       1.00      1.00      1.00       200\n",
      "weighted avg       1.00      1.00      1.00       200\n",
      "\n",
      "\n",
      "Confusion Matrix:  [[100   0]\n",
      " [  0 100]]\n",
      "\n",
      "Positive Predictive Value :  1.0\n",
      "\n",
      "Negative Predictive Value : 1.0\n",
      "\n",
      "Sensitivity :  1.0\n",
      "\n",
      "Specificity :  1.0\n",
      "\n",
      "Accuracy of Model :  100.0 %\n"
     ]
    }
   ],
   "source": [
    "#Storing the prediction made on test data\n",
    "y_pred = clf.predict(X_test)\n",
    "#Printing all scores\n",
    "print_all_scores(y_test, y_pred, f\"SVM(kernel={best_kernel})\", \"moons1\")"
   ]
  },
  {
   "cell_type": "markdown",
   "id": "38bcd47a",
   "metadata": {},
   "source": [
    "#### d. spiral1 dataset"
   ]
  },
  {
   "cell_type": "code",
   "execution_count": 44,
   "id": "0611bb3a",
   "metadata": {},
   "outputs": [
    {
     "name": "stdout",
     "output_type": "stream",
     "text": [
      "Fitting 10 folds for each of 4 candidates, totalling 40 fits\n",
      "[CV 1/10] END ....................kernel=linear;, score=0.700 total time=   0.0s\n",
      "[CV 2/10] END ....................kernel=linear;, score=0.738 total time=   0.0s\n",
      "[CV 3/10] END ....................kernel=linear;, score=0.800 total time=   0.0s\n",
      "[CV 4/10] END ....................kernel=linear;, score=0.750 total time=   0.0s\n",
      "[CV 5/10] END ....................kernel=linear;, score=0.725 total time=   0.0s\n",
      "[CV 6/10] END ....................kernel=linear;, score=0.762 total time=   0.0s\n",
      "[CV 7/10] END ....................kernel=linear;, score=0.762 total time=   0.0s\n",
      "[CV 8/10] END ....................kernel=linear;, score=0.713 total time=   0.0s\n",
      "[CV 9/10] END ....................kernel=linear;, score=0.750 total time=   0.0s\n",
      "[CV 10/10] END ...................kernel=linear;, score=0.787 total time=   0.0s\n",
      "[CV 1/10] END ......................kernel=poly;, score=0.713 total time=   0.0s\n",
      "[CV 2/10] END ......................kernel=poly;, score=0.738 total time=   0.0s\n",
      "[CV 3/10] END ......................kernel=poly;, score=0.800 total time=   0.0s\n",
      "[CV 4/10] END ......................kernel=poly;, score=0.750 total time=   0.0s\n",
      "[CV 5/10] END ......................kernel=poly;, score=0.738 total time=   0.0s\n",
      "[CV 6/10] END ......................kernel=poly;, score=0.787 total time=   0.0s\n",
      "[CV 7/10] END ......................kernel=poly;, score=0.762 total time=   0.0s\n",
      "[CV 8/10] END ......................kernel=poly;, score=0.700 total time=   0.0s\n",
      "[CV 9/10] END ......................kernel=poly;, score=0.762 total time=   0.0s\n",
      "[CV 10/10] END .....................kernel=poly;, score=0.787 total time=   0.0s\n",
      "[CV 1/10] END .......................kernel=rbf;, score=0.975 total time=   0.0s\n",
      "[CV 2/10] END .......................kernel=rbf;, score=0.975 total time=   0.0s\n",
      "[CV 3/10] END .......................kernel=rbf;, score=1.000 total time=   0.0s\n",
      "[CV 4/10] END .......................kernel=rbf;, score=1.000 total time=   0.0s\n",
      "[CV 5/10] END .......................kernel=rbf;, score=0.975 total time=   0.0s\n",
      "[CV 6/10] END .......................kernel=rbf;, score=0.975 total time=   0.0s\n",
      "[CV 7/10] END .......................kernel=rbf;, score=0.988 total time=   0.0s\n",
      "[CV 8/10] END .......................kernel=rbf;, score=0.988 total time=   0.0s\n",
      "[CV 9/10] END .......................kernel=rbf;, score=0.988 total time=   0.0s\n",
      "[CV 10/10] END ......................kernel=rbf;, score=0.963 total time=   0.0s\n",
      "[CV 1/10] END ...................kernel=sigmoid;, score=0.425 total time=   0.0s\n",
      "[CV 2/10] END ...................kernel=sigmoid;, score=0.412 total time=   0.0s\n",
      "[CV 3/10] END ...................kernel=sigmoid;, score=0.487 total time=   0.0s\n",
      "[CV 4/10] END ...................kernel=sigmoid;, score=0.388 total time=   0.0s\n",
      "[CV 5/10] END ...................kernel=sigmoid;, score=0.412 total time=   0.0s\n",
      "[CV 6/10] END ...................kernel=sigmoid;, score=0.438 total time=   0.0s\n",
      "[CV 7/10] END ...................kernel=sigmoid;, score=0.425 total time=   0.0s\n",
      "[CV 8/10] END ...................kernel=sigmoid;, score=0.450 total time=   0.0s\n",
      "[CV 9/10] END ...................kernel=sigmoid;, score=0.362 total time=   0.0s\n",
      "[CV 10/10] END ..................kernel=sigmoid;, score=0.500 total time=   0.0s\n"
     ]
    }
   ],
   "source": [
    "X=spiral_df.drop('label', axis='columns')\n",
    "Y=spiral_df['label']\n",
    "\n",
    "#Splitting the data into training and testing dataset\n",
    "X_train, X_test, y_train, y_test = train_test_split(X, Y, test_size=0.20, random_state=0)\n",
    "\n",
    "#Defining different parameters values\n",
    "param_dict = {\n",
    "#               'C': [0.1, 1, 10, 100], \n",
    "#               'gamma': [1, 0.1, 0.01, 0.001],\n",
    "              'kernel': [ 'linear', 'poly', 'rbf', 'sigmoid']} \n",
    "\n",
    "clf = get_best_svc_model(X_train, y_train, param_dict)"
   ]
  },
  {
   "cell_type": "code",
   "execution_count": 45,
   "id": "ef009634",
   "metadata": {},
   "outputs": [
    {
     "name": "stdout",
     "output_type": "stream",
     "text": [
      "rbf\n"
     ]
    }
   ],
   "source": [
    "# print best parameter after tuning\n",
    "best_kernel=clf.best_params_.get(\"kernel\")\n",
    "print(best_kernel)"
   ]
  },
  {
   "cell_type": "code",
   "execution_count": 46,
   "id": "8f8804f1",
   "metadata": {},
   "outputs": [
    {
     "name": "stdout",
     "output_type": "stream",
     "text": [
      "Classification Report and all 5 major metrics for spiral1 data with SVM(kernel=rbf) model\n",
      "Classification Report: \n",
      "               precision    recall  f1-score   support\n",
      "\n",
      "         0.0       0.97      1.00      0.98        94\n",
      "         1.0       1.00      0.97      0.99       106\n",
      "\n",
      "    accuracy                           0.98       200\n",
      "   macro avg       0.98      0.99      0.98       200\n",
      "weighted avg       0.99      0.98      0.99       200\n",
      "\n",
      "\n",
      "Confusion Matrix:  [[ 94   0]\n",
      " [  3 103]]\n",
      "\n",
      "Positive Predictive Value :  1.0\n",
      "\n",
      "Negative Predictive Value : 0.9690721649484536\n",
      "\n",
      "Sensitivity :  0.9716981132075472\n",
      "\n",
      "Specificity :  1.0\n",
      "\n",
      "Accuracy of Model :  98.5 %\n"
     ]
    }
   ],
   "source": [
    "#Storing the prediction made on test data\n",
    "y_pred = clf.predict(X_test)\n",
    "#Printing all scores\n",
    "print_all_scores(y_test, y_pred, f\"SVM(kernel={best_kernel})\", \"spiral1\")"
   ]
  },
  {
   "cell_type": "markdown",
   "id": "c9469e12",
   "metadata": {},
   "source": [
    "#### e. twogaussians42 dataset"
   ]
  },
  {
   "cell_type": "code",
   "execution_count": 47,
   "id": "876aa6eb",
   "metadata": {},
   "outputs": [
    {
     "name": "stdout",
     "output_type": "stream",
     "text": [
      "Fitting 10 folds for each of 4 candidates, totalling 40 fits\n",
      "[CV 1/10] END ....................kernel=linear;, score=0.912 total time=   0.0s\n",
      "[CV 2/10] END ....................kernel=linear;, score=0.900 total time=   0.0s\n",
      "[CV 3/10] END ....................kernel=linear;, score=0.912 total time=   0.0s\n",
      "[CV 4/10] END ....................kernel=linear;, score=0.887 total time=   0.0s\n",
      "[CV 5/10] END ....................kernel=linear;, score=0.938 total time=   0.0s\n",
      "[CV 6/10] END ....................kernel=linear;, score=0.912 total time=   0.0s\n",
      "[CV 7/10] END ....................kernel=linear;, score=0.950 total time=   0.0s\n",
      "[CV 8/10] END ....................kernel=linear;, score=0.912 total time=   0.0s\n",
      "[CV 9/10] END ....................kernel=linear;, score=0.988 total time=   0.0s\n",
      "[CV 10/10] END ...................kernel=linear;, score=0.938 total time=   0.0s\n",
      "[CV 1/10] END ......................kernel=poly;, score=0.900 total time=   0.0s\n",
      "[CV 2/10] END ......................kernel=poly;, score=0.900 total time=   0.0s\n",
      "[CV 3/10] END ......................kernel=poly;, score=0.900 total time=   0.0s\n",
      "[CV 4/10] END ......................kernel=poly;, score=0.887 total time=   0.0s\n",
      "[CV 5/10] END ......................kernel=poly;, score=0.938 total time=   0.0s\n",
      "[CV 6/10] END ......................kernel=poly;, score=0.900 total time=   0.0s\n",
      "[CV 7/10] END ......................kernel=poly;, score=0.950 total time=   0.0s\n",
      "[CV 8/10] END ......................kernel=poly;, score=0.887 total time=   0.0s\n",
      "[CV 9/10] END ......................kernel=poly;, score=0.963 total time=   0.0s\n",
      "[CV 10/10] END .....................kernel=poly;, score=0.925 total time=   0.0s\n",
      "[CV 1/10] END .......................kernel=rbf;, score=0.912 total time=   0.0s\n",
      "[CV 2/10] END .......................kernel=rbf;, score=0.912 total time=   0.0s\n",
      "[CV 3/10] END .......................kernel=rbf;, score=0.900 total time=   0.0s\n",
      "[CV 4/10] END .......................kernel=rbf;, score=0.887 total time=   0.0s\n",
      "[CV 5/10] END .......................kernel=rbf;, score=0.950 total time=   0.0s\n",
      "[CV 6/10] END .......................kernel=rbf;, score=0.912 total time=   0.0s\n",
      "[CV 7/10] END .......................kernel=rbf;, score=0.963 total time=   0.0s\n",
      "[CV 8/10] END .......................kernel=rbf;, score=0.925 total time=   0.0s\n",
      "[CV 9/10] END .......................kernel=rbf;, score=0.988 total time=   0.0s\n",
      "[CV 10/10] END ......................kernel=rbf;, score=0.925 total time=   0.0s\n",
      "[CV 1/10] END ...................kernel=sigmoid;, score=0.912 total time=   0.0s\n",
      "[CV 2/10] END ...................kernel=sigmoid;, score=0.900 total time=   0.0s\n",
      "[CV 3/10] END ...................kernel=sigmoid;, score=0.875 total time=   0.0s\n",
      "[CV 4/10] END ...................kernel=sigmoid;, score=0.887 total time=   0.0s\n",
      "[CV 5/10] END ...................kernel=sigmoid;, score=0.925 total time=   0.0s\n",
      "[CV 6/10] END ...................kernel=sigmoid;, score=0.887 total time=   0.0s\n",
      "[CV 7/10] END ...................kernel=sigmoid;, score=0.950 total time=   0.0s\n",
      "[CV 8/10] END ...................kernel=sigmoid;, score=0.938 total time=   0.0s\n",
      "[CV 9/10] END ...................kernel=sigmoid;, score=0.963 total time=   0.0s\n",
      "[CV 10/10] END ..................kernel=sigmoid;, score=0.850 total time=   0.0s\n"
     ]
    }
   ],
   "source": [
    "X=gaussian_df.drop('label', axis='columns')\n",
    "Y=gaussian_df['label']\n",
    "\n",
    "#Splitting the data into training and testing dataset\n",
    "X_train, X_test, y_train, y_test = train_test_split(X, Y, test_size=0.20, random_state=0)\n",
    "\n",
    "#Defining different parameters values\n",
    "param_dict = {\n",
    "#               'C': [0.1, 1, 10, 100], \n",
    "#               'gamma': [1, 0.1, 0.01, 0.001],\n",
    "              'kernel': [ 'linear', 'poly', 'rbf', 'sigmoid']} \n",
    "\n",
    "clf = get_best_svc_model(X_train, y_train, param_dict)"
   ]
  },
  {
   "cell_type": "code",
   "execution_count": 48,
   "id": "c7fcd57e",
   "metadata": {},
   "outputs": [
    {
     "name": "stdout",
     "output_type": "stream",
     "text": [
      "rbf\n"
     ]
    }
   ],
   "source": [
    "# print best parameter after tuning\n",
    "best_kernel=clf.best_params_.get(\"kernel\")\n",
    "print(best_kernel)"
   ]
  },
  {
   "cell_type": "code",
   "execution_count": 49,
   "id": "4e93660b",
   "metadata": {},
   "outputs": [
    {
     "name": "stdout",
     "output_type": "stream",
     "text": [
      "Classification Report and all 5 major metrics for twogaussian42 data with SVM(kernel=rbf) model\n",
      "Classification Report: \n",
      "               precision    recall  f1-score   support\n",
      "\n",
      "           0       0.91      1.00      0.95       103\n",
      "           1       1.00      0.90      0.95        97\n",
      "\n",
      "    accuracy                           0.95       200\n",
      "   macro avg       0.96      0.95      0.95       200\n",
      "weighted avg       0.95      0.95      0.95       200\n",
      "\n",
      "\n",
      "Confusion Matrix:  [[103   0]\n",
      " [ 10  87]]\n",
      "\n",
      "Positive Predictive Value :  1.0\n",
      "\n",
      "Negative Predictive Value : 0.911504424778761\n",
      "\n",
      "Sensitivity :  0.8969072164948454\n",
      "\n",
      "Specificity :  1.0\n",
      "\n",
      "Accuracy of Model :  95.0 %\n"
     ]
    }
   ],
   "source": [
    "#Storing the prediction made on test data\n",
    "y_pred = clf.predict(X_test)\n",
    "#Printing all scores\n",
    "print_all_scores(y_test, y_pred, f\"SVM(kernel={best_kernel})\", \"twogaussian42\")"
   ]
  },
  {
   "cell_type": "code",
   "execution_count": null,
   "id": "34c8262e",
   "metadata": {},
   "outputs": [],
   "source": []
  }
 ],
 "metadata": {
  "kernelspec": {
   "display_name": "Python 3 (ipykernel)",
   "language": "python",
   "name": "python3"
  },
  "language_info": {
   "codemirror_mode": {
    "name": "ipython",
    "version": 3
   },
   "file_extension": ".py",
   "mimetype": "text/x-python",
   "name": "python",
   "nbconvert_exporter": "python",
   "pygments_lexer": "ipython3",
   "version": "3.9.13"
  }
 },
 "nbformat": 4,
 "nbformat_minor": 5
}
